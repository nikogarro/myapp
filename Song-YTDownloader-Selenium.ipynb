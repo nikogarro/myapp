{
 "cells": [
  {
   "cell_type": "code",
   "execution_count": 4,
   "id": "04300a97",
   "metadata": {},
   "outputs": [
    {
     "name": "stdout",
     "output_type": "stream",
     "text": [
      "Collecting youtube_dl\n",
      "  Downloading youtube_dl-2021.12.17-py2.py3-none-any.whl (1.9 MB)\n",
      "Installing collected packages: youtube-dl\n",
      "Successfully installed youtube-dl-2021.12.17\n"
     ]
    }
   ],
   "source": [
    "#installing required modules\n",
    "#!pip install youtube_dl\n",
    "#!pip install selenium\n",
    "#!pip install ffmpeg\n",
    "#!pip install ffprobe"
   ]
  },
  {
   "cell_type": "code",
   "execution_count": 63,
   "id": "30ada8e7",
   "metadata": {},
   "outputs": [
    {
     "name": "stdout",
     "output_type": "stream",
     "text": [
      "Found  93  songs!\n",
      "Getting video id for:  I Chose Violence - iamjakehill\n",
      "Downloading songs\n",
      "download folder exists\n"
     ]
    },
    {
     "ename": "TypeError",
     "evalue": "__init__() got an unexpected keyword argument 'keepvideo'",
     "output_type": "error",
     "traceback": [
      "\u001b[1;31m---------------------------------------------------------------------------\u001b[0m",
      "\u001b[1;31mTypeError\u001b[0m                                 Traceback (most recent call last)",
      "\u001b[1;32m<ipython-input-63-fef73ccab3a2>\u001b[0m in \u001b[0;36m<module>\u001b[1;34m\u001b[0m\n\u001b[0;32m     67\u001b[0m     \u001b[1;31m#Download x amount of songs from songlist [0:x-1] , Download all songs with songlist[0:]\u001b[0m\u001b[1;33m\u001b[0m\u001b[1;33m\u001b[0m\u001b[1;33m\u001b[0m\u001b[0m\n\u001b[0;32m     68\u001b[0m     \u001b[0mDownloadVideosFromTitles\u001b[0m\u001b[1;33m(\u001b[0m\u001b[0msonglist\u001b[0m\u001b[1;33m[\u001b[0m\u001b[1;36m1\u001b[0m\u001b[1;33m:\u001b[0m\u001b[1;36m2\u001b[0m\u001b[1;33m]\u001b[0m\u001b[1;33m)\u001b[0m\u001b[1;33m\u001b[0m\u001b[1;33m\u001b[0m\u001b[0m\n\u001b[1;32m---> 69\u001b[1;33m \u001b[0m__main__\u001b[0m\u001b[1;33m(\u001b[0m\u001b[1;33m)\u001b[0m\u001b[1;33m\u001b[0m\u001b[1;33m\u001b[0m\u001b[0m\n\u001b[0m",
      "\u001b[1;32m<ipython-input-63-fef73ccab3a2>\u001b[0m in \u001b[0;36m__main__\u001b[1;34m()\u001b[0m\n\u001b[0;32m     66\u001b[0m     \u001b[0mprint\u001b[0m\u001b[1;33m(\u001b[0m\u001b[1;34m\"Found \"\u001b[0m\u001b[1;33m,\u001b[0m \u001b[0mlen\u001b[0m\u001b[1;33m(\u001b[0m\u001b[0msonglist\u001b[0m\u001b[1;33m)\u001b[0m\u001b[1;33m,\u001b[0m \u001b[1;34m\" songs!\"\u001b[0m\u001b[1;33m)\u001b[0m\u001b[1;33m\u001b[0m\u001b[1;33m\u001b[0m\u001b[0m\n\u001b[0;32m     67\u001b[0m     \u001b[1;31m#Download x amount of songs from songlist [0:x-1] , Download all songs with songlist[0:]\u001b[0m\u001b[1;33m\u001b[0m\u001b[1;33m\u001b[0m\u001b[1;33m\u001b[0m\u001b[0m\n\u001b[1;32m---> 68\u001b[1;33m     \u001b[0mDownloadVideosFromTitles\u001b[0m\u001b[1;33m(\u001b[0m\u001b[0msonglist\u001b[0m\u001b[1;33m[\u001b[0m\u001b[1;36m1\u001b[0m\u001b[1;33m:\u001b[0m\u001b[1;36m2\u001b[0m\u001b[1;33m]\u001b[0m\u001b[1;33m)\u001b[0m\u001b[1;33m\u001b[0m\u001b[1;33m\u001b[0m\u001b[0m\n\u001b[0m\u001b[0;32m     69\u001b[0m \u001b[0m__main__\u001b[0m\u001b[1;33m(\u001b[0m\u001b[1;33m)\u001b[0m\u001b[1;33m\u001b[0m\u001b[1;33m\u001b[0m\u001b[0m\n",
      "\u001b[1;32m<ipython-input-63-fef73ccab3a2>\u001b[0m in \u001b[0;36mDownloadVideosFromTitles\u001b[1;34m(los)\u001b[0m\n\u001b[0;32m     18\u001b[0m         \u001b[0mids\u001b[0m \u001b[1;33m+=\u001b[0m \u001b[1;33m[\u001b[0m\u001b[0mvid_id\u001b[0m\u001b[1;33m]\u001b[0m\u001b[1;33m\u001b[0m\u001b[1;33m\u001b[0m\u001b[0m\n\u001b[0;32m     19\u001b[0m     \u001b[0mprint\u001b[0m\u001b[1;33m(\u001b[0m\u001b[1;34m\"Downloading songs\"\u001b[0m\u001b[1;33m)\u001b[0m\u001b[1;33m\u001b[0m\u001b[1;33m\u001b[0m\u001b[0m\n\u001b[1;32m---> 20\u001b[1;33m     \u001b[0mDownloadVideosFromIds\u001b[0m\u001b[1;33m(\u001b[0m\u001b[0mids\u001b[0m\u001b[1;33m)\u001b[0m\u001b[1;33m\u001b[0m\u001b[1;33m\u001b[0m\u001b[0m\n\u001b[0m\u001b[0;32m     21\u001b[0m \u001b[1;33m\u001b[0m\u001b[0m\n\u001b[0;32m     22\u001b[0m \u001b[1;32mdef\u001b[0m \u001b[0mDownloadVideosFromIds\u001b[0m\u001b[1;33m(\u001b[0m\u001b[0mlov\u001b[0m\u001b[1;33m)\u001b[0m\u001b[1;33m:\u001b[0m\u001b[1;33m\u001b[0m\u001b[1;33m\u001b[0m\u001b[0m\n",
      "\u001b[1;32m<ipython-input-63-fef73ccab3a2>\u001b[0m in \u001b[0;36mDownloadVideosFromIds\u001b[1;34m(lov)\u001b[0m\n\u001b[0;32m     36\u001b[0m         \u001b[1;34m'outtmpl'\u001b[0m\u001b[1;33m:\u001b[0m \u001b[0mSAVE_PATH\u001b[0m \u001b[1;33m+\u001b[0m \u001b[1;34m'/%(title)s.%(ext)s'\u001b[0m\u001b[1;33m,\u001b[0m\u001b[1;33m\u001b[0m\u001b[1;33m\u001b[0m\u001b[0m\n\u001b[0;32m     37\u001b[0m     }\n\u001b[1;32m---> 38\u001b[1;33m     \u001b[1;32mwith\u001b[0m \u001b[0myoutube_dl\u001b[0m\u001b[1;33m.\u001b[0m\u001b[0mYoutubeDL\u001b[0m\u001b[1;33m(\u001b[0m\u001b[0mydl_opts\u001b[0m\u001b[1;33m)\u001b[0m \u001b[1;32mas\u001b[0m \u001b[0mydl\u001b[0m\u001b[1;33m:\u001b[0m\u001b[1;33m\u001b[0m\u001b[1;33m\u001b[0m\u001b[0m\n\u001b[0m\u001b[0;32m     39\u001b[0m         \u001b[0mydl\u001b[0m\u001b[1;33m.\u001b[0m\u001b[0mdownload\u001b[0m\u001b[1;33m(\u001b[0m\u001b[0mlov\u001b[0m\u001b[1;33m)\u001b[0m\u001b[1;33m\u001b[0m\u001b[1;33m\u001b[0m\u001b[0m\n\u001b[0;32m     40\u001b[0m \u001b[1;33m\u001b[0m\u001b[0m\n",
      "\u001b[1;32m~\\anaconda3\\lib\\site-packages\\youtube_dl\\YoutubeDL.py\u001b[0m in \u001b[0;36m__init__\u001b[1;34m(self, params, auto_init)\u001b[0m\n\u001b[0;32m    430\u001b[0m             \u001b[0mpp_def\u001b[0m \u001b[1;33m=\u001b[0m \u001b[0mdict\u001b[0m\u001b[1;33m(\u001b[0m\u001b[0mpp_def_raw\u001b[0m\u001b[1;33m)\u001b[0m\u001b[1;33m\u001b[0m\u001b[1;33m\u001b[0m\u001b[0m\n\u001b[0;32m    431\u001b[0m             \u001b[1;32mdel\u001b[0m \u001b[0mpp_def\u001b[0m\u001b[1;33m[\u001b[0m\u001b[1;34m'key'\u001b[0m\u001b[1;33m]\u001b[0m\u001b[1;33m\u001b[0m\u001b[1;33m\u001b[0m\u001b[0m\n\u001b[1;32m--> 432\u001b[1;33m             \u001b[0mpp\u001b[0m \u001b[1;33m=\u001b[0m \u001b[0mpp_class\u001b[0m\u001b[1;33m(\u001b[0m\u001b[0mself\u001b[0m\u001b[1;33m,\u001b[0m \u001b[1;33m**\u001b[0m\u001b[0mcompat_kwargs\u001b[0m\u001b[1;33m(\u001b[0m\u001b[0mpp_def\u001b[0m\u001b[1;33m)\u001b[0m\u001b[1;33m)\u001b[0m\u001b[1;33m\u001b[0m\u001b[1;33m\u001b[0m\u001b[0m\n\u001b[0m\u001b[0;32m    433\u001b[0m             \u001b[0mself\u001b[0m\u001b[1;33m.\u001b[0m\u001b[0madd_post_processor\u001b[0m\u001b[1;33m(\u001b[0m\u001b[0mpp\u001b[0m\u001b[1;33m)\u001b[0m\u001b[1;33m\u001b[0m\u001b[1;33m\u001b[0m\u001b[0m\n\u001b[0;32m    434\u001b[0m \u001b[1;33m\u001b[0m\u001b[0m\n",
      "\u001b[1;31mTypeError\u001b[0m: __init__() got an unexpected keyword argument 'keepvideo'"
     ]
    }
   ],
   "source": [
    "from bs4 import BeautifulSoup\n",
    "from requests_html import HTMLSession\n",
    "from pathlib import Path\n",
    "import youtube_dl\n",
    "import requests\n",
    "import pandas\n",
    "import os\n",
    "from lxml import etree\n",
    "from selenium import webdriver\n",
    "from selenium.webdriver.common.by import By\n",
    "from selenium.webdriver.support.ui import WebDriverWait\n",
    "from selenium.webdriver.support import expected_conditions as EC\n",
    "\n",
    "def DownloadVideosFromTitles(los):\n",
    "    ids = []\n",
    "    for index, item in enumerate(los):\n",
    "        vid_id = ScrapeVidId(item)\n",
    "        ids += [vid_id]\n",
    "    print(\"Downloading songs\")\n",
    "    DownloadVideosFromIds(ids)\n",
    "\n",
    "def DownloadVideosFromIds(lov):\n",
    "    SAVE_PATH = str(os.path.join(Path.home(), \"Downloads/songs\"))\n",
    "    try:\n",
    "        os.mkdir(SAVE_PATH)\n",
    "    except:\n",
    "        print(\"download folder exists\")\n",
    "    ydl_opts = {\n",
    "        'format': 'bestaudio/best',\n",
    "        'postprocessors': [{\n",
    "                'key': 'FFmpegExtractAudio',\n",
    "                'preferredcodec': 'mp3',\n",
    "                'preferredquality': '192',\n",
    "            }],\n",
    "        'outtmpl': SAVE_PATH + '/%(title)s.%(ext)s',\n",
    "    }\n",
    "    with youtube_dl.YoutubeDL(ydl_opts) as ydl:\n",
    "        ydl.download(lov)\n",
    "\n",
    "def ScrapeVidId(query):\n",
    "    print (\"Getting video id for: \", query)\n",
    "    BASIC=\"http://www.youtube.com/results?search_query=\"\n",
    "    URL = (BASIC + query)\n",
    "    URL.replace(\" \", \"+\")\n",
    "    #Scraping with selenium by opening browsers and getting a list of all videos urls\n",
    "    driver=webdriver.Firefox()\n",
    "    driver.get(URL)\n",
    "    results = [my_href.get_attribute(\"href\") for my_href in WebDriverWait(driver, 5).until(EC.visibility_of_all_elements_located((By.CSS_SELECTOR, \"a.yt-simple-endpoint.style-scope.ytd-video-renderer#video-title\")))][0]\n",
    "    return results.split('/watch?v=')[1]\n",
    "\n",
    "'''Using a beutiful soup \n",
    "    page = requests.get(URL)\n",
    "    session = HTMLSession()\n",
    "    response = session.get(URL)\n",
    "    response.html.arender(sleep=1)\n",
    "    soup = BeautifulSoup(response.html.html, \"html.parser\")\n",
    "    results = soup.find(id=\"video-title\")\n",
    "    print(soup)\n",
    "    print(results)\n",
    "    return results['href'].split('/watch?v=')[1]\n",
    "'''\n",
    "def __main__():\n",
    "    data = pandas.read_csv('songs.csv')\n",
    "    songlist = data['song names'].tolist()\n",
    "    print(\"Found \", len(songlist), \" songs!\")\n",
    "    #Download x amount of songs from songlist [0:x-1] , Download all songs with songlist[0:]\n",
    "    DownloadVideosFromTitles(songlist[1:2])\n",
    "__main__()"
   ]
  },
  {
   "cell_type": "code",
   "execution_count": null,
   "id": "a56e7362",
   "metadata": {},
   "outputs": [],
   "source": []
  }
 ],
 "metadata": {
  "kernelspec": {
   "display_name": "Python 3",
   "language": "python",
   "name": "python3"
  },
  "language_info": {
   "codemirror_mode": {
    "name": "ipython",
    "version": 3
   },
   "file_extension": ".py",
   "mimetype": "text/x-python",
   "name": "python",
   "nbconvert_exporter": "python",
   "pygments_lexer": "ipython3",
   "version": "3.8.8"
  }
 },
 "nbformat": 4,
 "nbformat_minor": 5
}
