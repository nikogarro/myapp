{
  "nbformat": 4,
  "nbformat_minor": 0,
  "metadata": {
    "colab": {
      "provenance": [],
      "authorship_tag": "ABX9TyNfaASQ1V/qwikITuyjP09a",
      "include_colab_link": true
    },
    "kernelspec": {
      "name": "python3",
      "display_name": "Python 3"
    },
    "language_info": {
      "name": "python"
    }
  },
  "cells": [
    {
      "cell_type": "markdown",
      "metadata": {
        "id": "view-in-github",
        "colab_type": "text"
      },
      "source": [
        "<a href=\"https://colab.research.google.com/github/nikogarro/myapp/blob/main/myapp.ipynb\" target=\"_parent\"><img src=\"https://colab.research.google.com/assets/colab-badge.svg\" alt=\"Open In Colab\"/></a>"
      ]
    },
    {
      "cell_type": "markdown",
      "source": [
        "# Inspiration\n",
        "https://www.youtube.com/watch?v=1TYyX8soQ8M&list=PLhYNDxVvF4oXa9ihs8WCzEriZsCF3Pp7A&index=3\n",
        "\n",
        "https://developer.spotify.com/dashboard/login"
      ],
      "metadata": {
        "id": "V37pq7AR4x8l"
      }
    },
    {
      "cell_type": "code",
      "source": [
        "!pip install pyngrok==4.1.1\n",
        "!pip install spotipy\n",
        "!pip install flask_ngrok"
      ],
      "metadata": {
        "colab": {
          "base_uri": "https://localhost:8080/"
        },
        "id": "8MkCnB9gABH4",
        "outputId": "0fdb5ff7-6e9f-4ab9-bc69-25d00915c4bf"
      },
      "execution_count": null,
      "outputs": [
        {
          "output_type": "stream",
          "name": "stdout",
          "text": [
            "Looking in indexes: https://pypi.org/simple, https://us-python.pkg.dev/colab-wheels/public/simple/\n",
            "Requirement already satisfied: pyngrok==4.1.1 in /usr/local/lib/python3.8/dist-packages (4.1.1)\n",
            "Requirement already satisfied: PyYAML in /usr/local/lib/python3.8/dist-packages (from pyngrok==4.1.1) (6.0)\n",
            "Requirement already satisfied: future in /usr/local/lib/python3.8/dist-packages (from pyngrok==4.1.1) (0.16.0)\n"
          ]
        }
      ]
    },
    {
      "cell_type": "code",
      "execution_count": null,
      "metadata": {
        "id": "R3MDdgzcvnoL"
      },
      "outputs": [],
      "source": [
        "from flask import Flask, request, url_for, session, redirect\n",
        "import spotipy\n",
        "from spotipy.oauth2 import SpotifyOAuth\n",
        "from flask_ngrok import run_with_ngrok\n",
        "from pyngrok import ngrok\n",
        "import time\n",
        "import pandas as pd"
      ]
    },
    {
      "cell_type": "code",
      "source": [
        "!ngrok authtoken 2JRmZO5cGImCTi4iig49ejRQ6ab_6bUBXYP5RL4esBgBKjPqm"
      ],
      "metadata": {
        "colab": {
          "base_uri": "https://localhost:8080/"
        },
        "id": "98USualfAIk6",
        "outputId": "073dcab9-9f67-488d-e8fe-b28ec6d29163"
      },
      "execution_count": null,
      "outputs": [
        {
          "output_type": "stream",
          "name": "stdout",
          "text": [
            "Authtoken saved to configuration file: /root/.ngrok2/ngrok.yml\n"
          ]
        }
      ]
    },
    {
      "cell_type": "code",
      "source": [
        "from os import access\n",
        "myapp = Flask(__name__)\n",
        "\n",
        "#run_with_ngrok(myapp)\n",
        "\n",
        "#secret key to sign our session cookie \n",
        "myapp.secret_key = '1234567890NG'\n",
        "\n",
        "#set session cookie name \n",
        "myapp.config['SESSION_COOKIE_NAME'] = 'Niko Cookie'\n",
        "#key to get information in a session dictionary\n",
        "TOKEN_INFO = \"token_info\"\n",
        "\n",
        "#setting up an end point or route\n",
        "#using the login() function that automatically \n",
        "#log us in spotify when in index page\n",
        "@myapp.route('/')\n",
        "def login():\n",
        "    sp_oauth = create_spotify_oauth()\n",
        "    auth_url = sp_oauth.get_authorize_url()\n",
        "    print(auth_url)\n",
        "    return redirect(auth_url)\n",
        "\n",
        "@myapp.route('/redirect')\n",
        "def redirectPage():\n",
        "    sp_oauth = create_spotify_oauth()\n",
        "    # clearing any previous session states\n",
        "    session.clear()\n",
        "    code = request.args.get('code')\n",
        "    #getting token information\n",
        "    token_info = sp_oauth.get_access_token(code)\n",
        "    #saving token info in the session\n",
        "    session[TOKEN_INFO] = token_info\n",
        "    return redirect(\"/getTracks\")\n",
        "\n",
        "@myapp.route('/logout')\n",
        "def logout():\n",
        "    for key in list(session.keys()):\n",
        "        session.pop(key)\n",
        "    return redirect('/')\n",
        "\n",
        "#get the tracks end point or route\n",
        "@myapp.route('/getTracks')\n",
        "def get_all_tracks():\n",
        "    session['token_info'], authorized = get_token()\n",
        "    session.modified = True\n",
        "    if not authorized:\n",
        "        return redirect('/')\n",
        "    sp = spotipy.Spotify(auth=session.get('token_info').get('access_token'))\n",
        "    results = []\n",
        "    iter = 0\n",
        "    while True:\n",
        "        offset = iter * 50\n",
        "        iter += 1\n",
        "        curGroup = sp.current_user_saved_tracks(limit=50, offset=offset)['items']\n",
        "        for idx, item in enumerate(curGroup):\n",
        "            track = item['track']\n",
        "            val = track['name'] + \" - \" + track['artists'][0]['name']\n",
        "            results += [val]\n",
        "        if (len(curGroup) < 50):\n",
        "            break\n",
        "    \n",
        "    df = pd.DataFrame(results, columns=[\"song names\"]) \n",
        "    df.to_csv('songs.csv', index=False)\n",
        "    return \"done\"\n",
        "\n",
        "#check if the token is expired and get us a fresh one\n",
        "def get_token():\n",
        "    token_valid = False\n",
        "    token_info = session.get(\"token_info\", {})\n",
        "\n",
        "    # Checking if the session already has a token stored\n",
        "    if not (session.get('token_info', False)):\n",
        "        token_valid = False\n",
        "        return token_info, token_valid\n",
        "\n",
        "    # Checking if token has expired\n",
        "    now = int(time.time())\n",
        "    is_token_expired = session.get('token_info').get('expires_at') - now < 60\n",
        "\n",
        "    # Refreshing token if it has expired\n",
        "    if (is_token_expired):\n",
        "        sp_oauth = create_spotify_oauth()\n",
        "        token_info = sp_oauth.refresh_access_token(session.get('token_info').get('refresh_token'))\n",
        "\n",
        "    token_valid = True\n",
        "    return token_info, token_valid\n",
        "\n",
        "def create_spotify_oauth():\n",
        "    return SpotifyOAuth(\n",
        "        client_id='a558f3ccbafc4c52be2c1157b3452722',\n",
        "        client_secret='e56013de61c14f9f91f646fd9eeb421c',\n",
        "        redirect_uri=url_for('redirectPage', _external=True),\n",
        "        scope='user-library-read')\n",
        "    \n",
        "#myapp.run()\n",
        "# Open a HTTP tunnel on the default port 80\n",
        "public_url = ngrok.connect(port = '5000')\n",
        "ssh_url = ngrok.connect(22,'tcp')\n",
        "public_url"
      ],
      "metadata": {
        "id": "UMjpKf1Ry_bf",
        "colab": {
          "base_uri": "https://localhost:8080/",
          "height": 35
        },
        "outputId": "aa868b67-7772-4ec0-b38d-a71d697e99d8"
      },
      "execution_count": null,
      "outputs": [
        {
          "output_type": "execute_result",
          "data": {
            "text/plain": [
              "'http://8132-35-243-230-223.ngrok.io'"
            ],
            "application/vnd.google.colaboratory.intrinsic+json": {
              "type": "string"
            }
          },
          "metadata": {},
          "execution_count": 6
        }
      ]
    },
    {
      "cell_type": "markdown",
      "source": [
        "## Get the one time url from ngrok and register it at the spotify api Developer Dashboard with an /redirect"
      ],
      "metadata": {
        "id": "CZ1xBawUyAOZ"
      }
    },
    {
      "cell_type": "code",
      "source": [
        "# Open a HTTP tunnel on the default port 80\n",
        "public_url = ngrok.connect(port = '5000')\n",
        "ssh_url = ngrok.connect(22,'tcp')\n",
        "public_url"
      ],
      "metadata": {
        "id": "hF21MhuBIfzM"
      },
      "execution_count": null,
      "outputs": []
    },
    {
      "cell_type": "markdown",
      "source": [
        "## Start the flask server in the one time use browser"
      ],
      "metadata": {
        "id": "j3_EKFSEx18Q"
      }
    },
    {
      "cell_type": "code",
      "source": [
        "myapp.run()"
      ],
      "metadata": {
        "colab": {
          "base_uri": "https://localhost:8080/"
        },
        "id": "dBpNgFWYOoPF",
        "outputId": "52874b9e-d92c-401d-b2cc-8bfeecdb829a"
      },
      "execution_count": null,
      "outputs": [
        {
          "output_type": "stream",
          "name": "stdout",
          "text": [
            " * Serving Flask app \"__main__\" (lazy loading)\n",
            " * Environment: production\n",
            "\u001b[31m   WARNING: This is a development server. Do not use it in a production deployment.\u001b[0m\n",
            "\u001b[2m   Use a production WSGI server instead.\u001b[0m\n",
            " * Debug mode: off\n"
          ]
        },
        {
          "output_type": "stream",
          "name": "stderr",
          "text": [
            "INFO:werkzeug: * Running on http://127.0.0.1:5000/ (Press CTRL+C to quit)\n",
            "INFO:werkzeug:127.0.0.1 - - [27/Dec/2022 14:25:34] \"\u001b[32mGET / HTTP/1.1\u001b[0m\" 302 -\n"
          ]
        },
        {
          "output_type": "stream",
          "name": "stdout",
          "text": [
            "https://accounts.spotify.com/authorize?client_id=a558f3ccbafc4c52be2c1157b3452722&response_type=code&redirect_uri=http%3A%2F%2F8132-35-243-230-223.ngrok.io%2Fredirect&scope=user-library-read\n"
          ]
        },
        {
          "output_type": "stream",
          "name": "stderr",
          "text": [
            "<ipython-input-6-15f8694bba99>:31: DeprecationWarning: You're using 'as_dict = True'.get_access_token will return the token string directly in future versions. Please adjust your code accordingly, or use get_cached_token instead.\n",
            "  token_info = sp_oauth.get_access_token(code)\n",
            "INFO:werkzeug:127.0.0.1 - - [27/Dec/2022 14:25:34] \"\u001b[32mGET /redirect?code=AQBlz8DoOh55haGOs-LFZ4zb9AMtQ5FwKZNtb-B-IWY8SI7tewBOOwRNIi4DRO-NKBbJO8Z7oOxBfDJy7Wh_OmJbLahe2nR21p24YGUyHsa2Mt6L0AoRCDzXjWONdeCU_c7JTTajeZ5mOftl3gqmT57alZQ0HOTmMtl5c3OG0aJjC4z6QLu8_2_n2w8B-hc79oyTMqe-C-VV4N-dr_gTXmx22g HTTP/1.1\u001b[0m\" 302 -\n",
            "INFO:werkzeug:127.0.0.1 - - [27/Dec/2022 14:25:35] \"\u001b[37mGET /getTracks HTTP/1.1\u001b[0m\" 200 -\n"
          ]
        }
      ]
    },
    {
      "cell_type": "code",
      "source": [
        "#Terminate ngrok processes, only one at a time allowed also fixes HTTP tunnel error \n",
        "ngrok.kill()"
      ],
      "metadata": {
        "id": "MA-lVvefb630"
      },
      "execution_count": null,
      "outputs": []
    },
    {
      "cell_type": "markdown",
      "source": [
        "## Aquire song ids/urls with BeautifulSoup and Download them with youtube_dl"
      ],
      "metadata": {
        "id": "3vFbYRjexEtW"
      }
    },
    {
      "cell_type": "markdown",
      "source": [
        "Copy the following code in a `.py` file and save it then run the file through the **command line** example `cd C://path` of the directory of the file and afterwards do `python filename.py` make sure the CSV file `songs.csv` is in the same directory as the python file.The first time you run the file `Chromium` will be downloaded which is the browser the scrapper will work on in the background."
      ],
      "metadata": {
        "id": "sJWwMXMCtODI"
      }
    },
    {
      "cell_type": "code",
      "source": [
        "#downloading songs from youtube\n",
        "from bs4 import BeautifulSoup\n",
        "from requests_html import HTMLSession\n",
        "from pathlib import Path\n",
        "import youtube_dl\n",
        "import requests\n",
        "import pandas\n",
        "import os\n",
        "\n",
        "def DownloadVideosFromTitles(los):\n",
        "\tids = []\n",
        "\tfor index, item in enumerate(los):\n",
        "\t\tvid_id = ScrapeVidId(item)\n",
        "\t\tids += [vid_id]\n",
        "\tprint(\"Downloading songs\")\n",
        "\tDownloadVideosFromIds(ids)\n",
        "\n",
        "\n",
        "def DownloadVideosFromIds(lov):\n",
        "\tSAVE_PATH = str(os.path.join(Path.home(), \"Downloads/songs\"))\n",
        "\ttry:\n",
        "\t\tos.mkdir(SAVE_PATH)\n",
        "\texcept:\n",
        "\t\tprint(\"download folder exists\")\n",
        "\tydl_opts = {\n",
        "    \t'format': 'bestaudio/best',\n",
        "   \t'''\t'postprocessors': [{\n",
        "        \t\t'key': 'FFmpegExtractAudio',\n",
        "        \t\t'preferredcodec': 'mp3',\n",
        "        \t\t'preferredquality': '192',\n",
        "    \t\t}],'''\n",
        "\t\t'outtmpl': SAVE_PATH + '/%(title)s.%(ext)s',\n",
        "\t}\n",
        "\twith youtube_dl.YoutubeDL(ydl_opts) as ydl:\n",
        "\t    ydl.download(lov)\n",
        "\n",
        "async def ScrapeVidId(query):\n",
        "    print (\"Getting video id for: \", query)\n",
        "    print(\"Lenght of the seached song used to help debugging\",len(query))\n",
        "    BASIC=\"http://www.youtube.com/results?search_query=\" \n",
        "    query = query.replace(\" \", \"+\")\n",
        "    URL = (BASIC + query)\n",
        "    print(\"The URL is: \", URL)\n",
        "    URL = URL.replace(' ', '+')\n",
        "\n",
        "    print(\"The URL after replacing the spaces with + is: \", URL)\n",
        "    session = HTMLSession()\n",
        "    response = session.get(URL)\n",
        "    #\n",
        "    response.html.render(sleep=1, timeout=900000)\n",
        "    soup = BeautifulSoup(response.html.html, \"html.parser\")\n",
        "    print(\"The soup is: \", soup)\n",
        "    results = soup.find(\"a\", id=\"video-title\")\n",
        "    print('the results variable value is:', results)\n",
        "    return results['href'].split('/watch?v=')[1]\n",
        "\n",
        "def __main__():\n",
        "    data = pandas.read_csv('songs.csv')\n",
        "    songlist = data['song names'].tolist()\n",
        "    print(songlist)\n",
        "    print(\"Found \", len(songlist), \" songs!\")\n",
        "    DownloadVideosFromTitles(songlist[0:1])\n",
        "__main__()"
      ],
      "metadata": {
        "colab": {
          "base_uri": "https://localhost:8080/",
          "height": 436
        },
        "id": "Acbdfrzk0d3I",
        "outputId": "7b9c820d-a803-43fa-e059-6246ed3fed2e"
      },
      "execution_count": 15,
      "outputs": [
        {
          "output_type": "stream",
          "name": "stdout",
          "text": [
            "['Fall Apart - Tearz', 'I Chose Violence - iamjakehill', 'Enemy (with JID) - from the series Arcane League of Legends - Imagine Dragons', 'The Sound - Aero Chord', 'Hold On & Believe (feat. The Federal Empire) - Martin Garrix', 'Sun Is Never Going Down (feat. Dawn Golden) - Martin Garrix', 'Lamp (feat. Nujabes) - haruka nakamura', 'Spaceships - AREA21', 'Spotless - Martin Garrix', 'How Many - W&W', 'Rave After Rave - W&W', \"Don't Let Me Down - Illenium Remix - The Chainsmokers\", 'Hymn of Reflection - KSHMR', 'Touch (EP Version) - KSHMR', 'Dadima - KSHMR', 'Wildcard (EP Version) - KSHMR', 'Sleepwalk - KSHMR', 'Jungle Whistle - KSHMR', 'Lost Words - Radio Edit - Julian Jordan', 'Stardust - Jay Hardway', 'Electric Elephants - Jay Hardway', 'Louder - MOTi', 'El Mariachi - Bassjackers', 'Into The Fire - VINAI', 'Sing Me to Sleep - Marshmello Remix - Alan Walker', \"Don't Let Me Down - W&W Remix - The Chainsmokers\", 'Pirates - Crystal Lake', 'Forbidden Voices - Martin Garrix', '4U - Aero Chord', 'Outside (feat. Ellie Goulding) - Calvin Harris', 'Tiger - Original Mix - R3HAB', 'Invincible - Radio Edit - Firebeatz', 'Mammoth - Original Mix - Dimitri Vegas & Like Mike', 'The Hum - Short Edit - Dimitri Vegas & Like Mike', 'Secrets - Radio Edit - Tiësto', 'Treasured Soul - Radio Edit - Michael Calfan', 'Legend Comes to Life - Blasterjaxx', 'Welcome To The Jungle - Original Mix - Alvaro', 'This Is Dirty - Original Mix - DVBBS', 'The Buzz - Original Mix Edit - New World Sound', 'Dance to the Sun - Original Extended Mix - diMaro', '#Pantsdown - Club Mix - The Partysquad', 'Surface - Aero Chord', 'Boundless - Aero Chord', 'You Know You Like It - DJ Snake', 'Project T - Martin Garrix Remix - Dimitri Vegas & Like Mike', 'Louder - Extended Mix - Dimitri Vegas & Like Mike', 'Sally - Hardwell', 'Napoleon [Mix Cut] - Original Mix - Holl & Rush', 'Eclipse - Hardwell', 'Calabria - Firebeatz Remix - Rune RK', \"Don't Stop The Madness - Hardwell\", 'No Heroes (feat. Luciana) - Original Mix - Firebeatz', 'Switch Lanes - Tyga', 'Bigfoot - Original Mix - W&W', 'Thunder - Original Mix - W&W', 'Rack City - Tyga', \"Can't You See - Original Mix - Shermanology\", 'Flashlight - Original Mix - R3HAB', 'Puzzle - Quintino', 'Lose Yourself - Soundtrack Version - Eminem', 'Boom Boom - Justice Crew', 'Smile - Original Mix - Joker Inc', 'Vicious - Original Mix - Ibranovski', 'Remember the Name (feat. Styles of Beyond) - Fort Minor', 'Turn Up The Love - Far East Movement', 'Changed The Way You Kiss Me - Radio Edit - Example', 'Berzerk - Eminem', 'Immortal (We Live Forever) - Original Mix - DVBBS', 'Shot Me Down (feat. Skylar Grey) - Radio Edit - David Guetta', 'Unicorn Zombie Apocalypse - Original Mix - Borgore', 'Kingdom - Original Mix - Jewelz & Sparks', 'Wizard - Martin Garrix', 'Tremor (Sensation 2014 Anthem) - Radio Edit - Dimitri Vegas & Like Mike', 'Flute - Radio Mix - New World Sound', 'Stampede - Original Mix - Dimitri Vegas & Like Mike', 'Wildfire - Radio Edit - Borgeous', 'Helicopter - Video Edit - Martin Garrix', 'Shotgun - Yellow Claw', 'We Were Young - Original Mix - DVBBS', 'Savior - Radio Edit - Bassjackers', 'Virus (How About Now) - Martin Garrix', 'Karate - Original Mix - R3HAB', 'Incredible - Original Mix - Carnage', 'Gravity - Original Mix - Blasterjaxx', 'Electro Champion - Ali Nadem', 'The Underground - Original Mix - Alvaro', 'Razor Sharp - Pegboard Nerds', 'Flight - Tristam', 'Strike - Radio Edit - Merk & Kremont', 'Tsunami - DVBBS', 'Animals - Original Mix - Martin Garrix', 'Spaceman - Hardwell']\n",
            "Found  93  songs!\n",
            "Downloading songs\n",
            "download folder exists\n"
          ]
        },
        {
          "output_type": "error",
          "ename": "TypeError",
          "evalue": "ignored",
          "traceback": [
            "\u001b[0;31m---------------------------------------------------------------------------\u001b[0m",
            "\u001b[0;31mTypeError\u001b[0m                                 Traceback (most recent call last)",
            "\u001b[0;32m<ipython-input-15-d47b3216a20e>\u001b[0m in \u001b[0;36m<module>\u001b[0;34m\u001b[0m\n\u001b[1;32m     74\u001b[0m     \u001b[0mprint\u001b[0m\u001b[0;34m(\u001b[0m\u001b[0;34m\"Found \"\u001b[0m\u001b[0;34m,\u001b[0m \u001b[0mlen\u001b[0m\u001b[0;34m(\u001b[0m\u001b[0msonglist\u001b[0m\u001b[0;34m)\u001b[0m\u001b[0;34m,\u001b[0m \u001b[0;34m\" songs!\"\u001b[0m\u001b[0;34m)\u001b[0m\u001b[0;34m\u001b[0m\u001b[0;34m\u001b[0m\u001b[0m\n\u001b[1;32m     75\u001b[0m     \u001b[0mDownloadVideosFromTitles\u001b[0m\u001b[0;34m(\u001b[0m\u001b[0msonglist\u001b[0m\u001b[0;34m[\u001b[0m\u001b[0;36m0\u001b[0m\u001b[0;34m:\u001b[0m\u001b[0;36m1\u001b[0m\u001b[0;34m]\u001b[0m\u001b[0;34m)\u001b[0m\u001b[0;34m\u001b[0m\u001b[0;34m\u001b[0m\u001b[0m\n\u001b[0;32m---> 76\u001b[0;31m \u001b[0m__main__\u001b[0m\u001b[0;34m(\u001b[0m\u001b[0;34m)\u001b[0m\u001b[0;34m\u001b[0m\u001b[0;34m\u001b[0m\u001b[0m\n\u001b[0m",
            "\u001b[0;32m<ipython-input-15-d47b3216a20e>\u001b[0m in \u001b[0;36m__main__\u001b[0;34m()\u001b[0m\n\u001b[1;32m     73\u001b[0m     \u001b[0mprint\u001b[0m\u001b[0;34m(\u001b[0m\u001b[0msonglist\u001b[0m\u001b[0;34m)\u001b[0m\u001b[0;34m\u001b[0m\u001b[0;34m\u001b[0m\u001b[0m\n\u001b[1;32m     74\u001b[0m     \u001b[0mprint\u001b[0m\u001b[0;34m(\u001b[0m\u001b[0;34m\"Found \"\u001b[0m\u001b[0;34m,\u001b[0m \u001b[0mlen\u001b[0m\u001b[0;34m(\u001b[0m\u001b[0msonglist\u001b[0m\u001b[0;34m)\u001b[0m\u001b[0;34m,\u001b[0m \u001b[0;34m\" songs!\"\u001b[0m\u001b[0;34m)\u001b[0m\u001b[0;34m\u001b[0m\u001b[0;34m\u001b[0m\u001b[0m\n\u001b[0;32m---> 75\u001b[0;31m     \u001b[0mDownloadVideosFromTitles\u001b[0m\u001b[0;34m(\u001b[0m\u001b[0msonglist\u001b[0m\u001b[0;34m[\u001b[0m\u001b[0;36m0\u001b[0m\u001b[0;34m:\u001b[0m\u001b[0;36m1\u001b[0m\u001b[0;34m]\u001b[0m\u001b[0;34m)\u001b[0m\u001b[0;34m\u001b[0m\u001b[0;34m\u001b[0m\u001b[0m\n\u001b[0m\u001b[1;32m     76\u001b[0m \u001b[0m__main__\u001b[0m\u001b[0;34m(\u001b[0m\u001b[0;34m)\u001b[0m\u001b[0;34m\u001b[0m\u001b[0;34m\u001b[0m\u001b[0m\n",
            "\u001b[0;32m<ipython-input-15-d47b3216a20e>\u001b[0m in \u001b[0;36mDownloadVideosFromTitles\u001b[0;34m(los)\u001b[0m\n\u001b[1;32m     20\u001b[0m                 \u001b[0mids\u001b[0m \u001b[0;34m+=\u001b[0m \u001b[0;34m[\u001b[0m\u001b[0mvid_id\u001b[0m\u001b[0;34m]\u001b[0m\u001b[0;34m\u001b[0m\u001b[0;34m\u001b[0m\u001b[0m\n\u001b[1;32m     21\u001b[0m         \u001b[0mprint\u001b[0m\u001b[0;34m(\u001b[0m\u001b[0;34m\"Downloading songs\"\u001b[0m\u001b[0;34m)\u001b[0m\u001b[0;34m\u001b[0m\u001b[0;34m\u001b[0m\u001b[0m\n\u001b[0;32m---> 22\u001b[0;31m         \u001b[0mDownloadVideosFromIds\u001b[0m\u001b[0;34m(\u001b[0m\u001b[0mids\u001b[0m\u001b[0;34m)\u001b[0m\u001b[0;34m\u001b[0m\u001b[0;34m\u001b[0m\u001b[0m\n\u001b[0m\u001b[1;32m     23\u001b[0m \u001b[0;34m\u001b[0m\u001b[0m\n\u001b[1;32m     24\u001b[0m \u001b[0;34m\u001b[0m\u001b[0m\n",
            "\u001b[0;32m<ipython-input-15-d47b3216a20e>\u001b[0m in \u001b[0;36mDownloadVideosFromIds\u001b[0;34m(lov)\u001b[0m\n\u001b[1;32m     39\u001b[0m \t}\n\u001b[1;32m     40\u001b[0m         \u001b[0;32mwith\u001b[0m \u001b[0myoutube_dl\u001b[0m\u001b[0;34m.\u001b[0m\u001b[0mYoutubeDL\u001b[0m\u001b[0;34m(\u001b[0m\u001b[0mydl_opts\u001b[0m\u001b[0;34m)\u001b[0m \u001b[0;32mas\u001b[0m \u001b[0mydl\u001b[0m\u001b[0;34m:\u001b[0m\u001b[0;34m\u001b[0m\u001b[0;34m\u001b[0m\u001b[0m\n\u001b[0;32m---> 41\u001b[0;31m             \u001b[0mydl\u001b[0m\u001b[0;34m.\u001b[0m\u001b[0mdownload\u001b[0m\u001b[0;34m(\u001b[0m\u001b[0mlov\u001b[0m\u001b[0;34m)\u001b[0m\u001b[0;34m\u001b[0m\u001b[0;34m\u001b[0m\u001b[0m\n\u001b[0m\u001b[1;32m     42\u001b[0m \u001b[0;34m\u001b[0m\u001b[0m\n\u001b[1;32m     43\u001b[0m \u001b[0;32masync\u001b[0m \u001b[0;32mdef\u001b[0m \u001b[0mScrapeVidId\u001b[0m\u001b[0;34m(\u001b[0m\u001b[0mquery\u001b[0m\u001b[0;34m)\u001b[0m\u001b[0;34m:\u001b[0m\u001b[0;34m\u001b[0m\u001b[0;34m\u001b[0m\u001b[0m\n",
            "\u001b[0;32m/usr/local/lib/python3.8/dist-packages/youtube_dl/YoutubeDL.py\u001b[0m in \u001b[0;36mdownload\u001b[0;34m(self, url_list)\u001b[0m\n\u001b[1;32m   2066\u001b[0m             \u001b[0;32mtry\u001b[0m\u001b[0;34m:\u001b[0m\u001b[0;34m\u001b[0m\u001b[0;34m\u001b[0m\u001b[0m\n\u001b[1;32m   2067\u001b[0m                 \u001b[0;31m# It also downloads the videos\u001b[0m\u001b[0;34m\u001b[0m\u001b[0;34m\u001b[0m\u001b[0;34m\u001b[0m\u001b[0m\n\u001b[0;32m-> 2068\u001b[0;31m                 res = self.extract_info(\n\u001b[0m\u001b[1;32m   2069\u001b[0m                     url, force_generic_extractor=self.params.get('force_generic_extractor', False))\n\u001b[1;32m   2070\u001b[0m             \u001b[0;32mexcept\u001b[0m \u001b[0mUnavailableVideoError\u001b[0m\u001b[0;34m:\u001b[0m\u001b[0;34m\u001b[0m\u001b[0;34m\u001b[0m\u001b[0m\n",
            "\u001b[0;32m/usr/local/lib/python3.8/dist-packages/youtube_dl/YoutubeDL.py\u001b[0m in \u001b[0;36mextract_info\u001b[0;34m(self, url, download, ie_key, extra_info, process, force_generic_extractor)\u001b[0m\n\u001b[1;32m    798\u001b[0m \u001b[0;34m\u001b[0m\u001b[0m\n\u001b[1;32m    799\u001b[0m         \u001b[0;32mfor\u001b[0m \u001b[0mie\u001b[0m \u001b[0;32min\u001b[0m \u001b[0mies\u001b[0m\u001b[0;34m:\u001b[0m\u001b[0;34m\u001b[0m\u001b[0;34m\u001b[0m\u001b[0m\n\u001b[0;32m--> 800\u001b[0;31m             \u001b[0;32mif\u001b[0m \u001b[0;32mnot\u001b[0m \u001b[0mie\u001b[0m\u001b[0;34m.\u001b[0m\u001b[0msuitable\u001b[0m\u001b[0;34m(\u001b[0m\u001b[0murl\u001b[0m\u001b[0;34m)\u001b[0m\u001b[0;34m:\u001b[0m\u001b[0;34m\u001b[0m\u001b[0;34m\u001b[0m\u001b[0m\n\u001b[0m\u001b[1;32m    801\u001b[0m                 \u001b[0;32mcontinue\u001b[0m\u001b[0;34m\u001b[0m\u001b[0;34m\u001b[0m\u001b[0m\n\u001b[1;32m    802\u001b[0m \u001b[0;34m\u001b[0m\u001b[0m\n",
            "\u001b[0;32m/usr/local/lib/python3.8/dist-packages/youtube_dl/extractor/common.py\u001b[0m in \u001b[0;36msuitable\u001b[0;34m(cls, url)\u001b[0m\n\u001b[1;32m    413\u001b[0m         \u001b[0;32mif\u001b[0m \u001b[0;34m'_VALID_URL_RE'\u001b[0m \u001b[0;32mnot\u001b[0m \u001b[0;32min\u001b[0m \u001b[0mcls\u001b[0m\u001b[0;34m.\u001b[0m\u001b[0m__dict__\u001b[0m\u001b[0;34m:\u001b[0m\u001b[0;34m\u001b[0m\u001b[0;34m\u001b[0m\u001b[0m\n\u001b[1;32m    414\u001b[0m             \u001b[0mcls\u001b[0m\u001b[0;34m.\u001b[0m\u001b[0m_VALID_URL_RE\u001b[0m \u001b[0;34m=\u001b[0m \u001b[0mre\u001b[0m\u001b[0;34m.\u001b[0m\u001b[0mcompile\u001b[0m\u001b[0;34m(\u001b[0m\u001b[0mcls\u001b[0m\u001b[0;34m.\u001b[0m\u001b[0m_VALID_URL\u001b[0m\u001b[0;34m)\u001b[0m\u001b[0;34m\u001b[0m\u001b[0;34m\u001b[0m\u001b[0m\n\u001b[0;32m--> 415\u001b[0;31m         \u001b[0;32mreturn\u001b[0m \u001b[0mcls\u001b[0m\u001b[0;34m.\u001b[0m\u001b[0m_VALID_URL_RE\u001b[0m\u001b[0;34m.\u001b[0m\u001b[0mmatch\u001b[0m\u001b[0;34m(\u001b[0m\u001b[0murl\u001b[0m\u001b[0;34m)\u001b[0m \u001b[0;32mis\u001b[0m \u001b[0;32mnot\u001b[0m \u001b[0;32mNone\u001b[0m\u001b[0;34m\u001b[0m\u001b[0;34m\u001b[0m\u001b[0m\n\u001b[0m\u001b[1;32m    416\u001b[0m \u001b[0;34m\u001b[0m\u001b[0m\n\u001b[1;32m    417\u001b[0m     \u001b[0;34m@\u001b[0m\u001b[0mclassmethod\u001b[0m\u001b[0;34m\u001b[0m\u001b[0;34m\u001b[0m\u001b[0m\n",
            "\u001b[0;31mTypeError\u001b[0m: expected string or bytes-like object"
          ]
        }
      ]
    },
    {
      "cell_type": "markdown",
      "source": [
        "## Method 2 using selenium\n"
      ],
      "metadata": {
        "id": "Uf_DzVf2w48f"
      }
    },
    {
      "cell_type": "code",
      "source": [
        "!apt-get update\n",
        "!pip install selenium\n",
        "!apt install firefox-geckodriver\n",
        "!cp /usr/lib/geckodriver/usr/bin\n",
        "!cp /usr/lib/firefox/usr/bin"
      ],
      "metadata": {
        "colab": {
          "base_uri": "https://localhost:8080/"
        },
        "id": "9NzyEFsR5pYt",
        "outputId": "9163d9fb-8ccc-4a86-8f47-78895e1c22a4"
      },
      "execution_count": null,
      "outputs": [
        {
          "output_type": "stream",
          "name": "stdout",
          "text": [
            "\r0% [Working]\r            \rHit:1 https://cloud.r-project.org/bin/linux/ubuntu bionic-cran40/ InRelease\n",
            "\r0% [Waiting for headers] [Waiting for headers] [Waiting for headers] [Waiting f\r0% [1 InRelease gpgv 3,626 B] [Waiting for headers] [Waiting for headers] [Wait\r                                                                               \rHit:2 http://security.ubuntu.com/ubuntu bionic-security InRelease\n",
            "\r0% [1 InRelease gpgv 3,626 B] [Waiting for headers] [Waiting for headers] [Wait\r                                                                               \rHit:3 http://archive.ubuntu.com/ubuntu bionic InRelease\n",
            "\r0% [1 InRelease gpgv 3,626 B] [Waiting for headers] [Waiting for headers] [Wait\r                                                                               \rIgn:4 https://developer.download.nvidia.com/compute/machine-learning/repos/ubuntu1804/x86_64  InRelease\n",
            "\r0% [1 InRelease gpgv 3,626 B] [Waiting for headers] [Waiting for headers] [Wait\r                                                                               \rHit:5 http://ppa.launchpad.net/c2d4u.team/c2d4u4.0+/ubuntu bionic InRelease\n",
            "Hit:6 https://developer.download.nvidia.com/compute/cuda/repos/ubuntu1804/x86_64  InRelease\n",
            "Hit:7 https://developer.download.nvidia.com/compute/machine-learning/repos/ubuntu1804/x86_64  Release\n",
            "Hit:8 http://archive.ubuntu.com/ubuntu bionic-updates InRelease\n",
            "Hit:9 http://archive.ubuntu.com/ubuntu bionic-backports InRelease\n",
            "Hit:10 http://ppa.launchpad.net/cran/libgit2/ubuntu bionic InRelease\n",
            "Hit:11 http://ppa.launchpad.net/deadsnakes/ppa/ubuntu bionic InRelease\n",
            "Hit:12 http://ppa.launchpad.net/graphics-drivers/ppa/ubuntu bionic InRelease\n",
            "Reading package lists... Done\n",
            "Looking in indexes: https://pypi.org/simple, https://us-python.pkg.dev/colab-wheels/public/simple/\n",
            "Requirement already satisfied: selenium in /usr/local/lib/python3.8/dist-packages (4.7.2)\n",
            "Requirement already satisfied: trio~=0.17 in /usr/local/lib/python3.8/dist-packages (from selenium) (0.22.0)\n",
            "Requirement already satisfied: certifi>=2021.10.8 in /usr/local/lib/python3.8/dist-packages (from selenium) (2022.12.7)\n",
            "Requirement already satisfied: trio-websocket~=0.9 in /usr/local/lib/python3.8/dist-packages (from selenium) (0.9.2)\n",
            "Requirement already satisfied: urllib3[socks]~=1.26 in /usr/local/lib/python3.8/dist-packages (from selenium) (1.26.13)\n",
            "Requirement already satisfied: exceptiongroup>=1.0.0rc9 in /usr/local/lib/python3.8/dist-packages (from trio~=0.17->selenium) (1.1.0)\n",
            "Requirement already satisfied: idna in /usr/local/lib/python3.8/dist-packages (from trio~=0.17->selenium) (2.10)\n",
            "Requirement already satisfied: outcome in /usr/local/lib/python3.8/dist-packages (from trio~=0.17->selenium) (1.2.0)\n",
            "Requirement already satisfied: sniffio in /usr/local/lib/python3.8/dist-packages (from trio~=0.17->selenium) (1.3.0)\n",
            "Requirement already satisfied: async-generator>=1.9 in /usr/local/lib/python3.8/dist-packages (from trio~=0.17->selenium) (1.10)\n",
            "Requirement already satisfied: attrs>=19.2.0 in /usr/local/lib/python3.8/dist-packages (from trio~=0.17->selenium) (22.1.0)\n",
            "Requirement already satisfied: sortedcontainers in /usr/local/lib/python3.8/dist-packages (from trio~=0.17->selenium) (2.4.0)\n",
            "Requirement already satisfied: wsproto>=0.14 in /usr/local/lib/python3.8/dist-packages (from trio-websocket~=0.9->selenium) (1.2.0)\n",
            "Requirement already satisfied: PySocks!=1.5.7,<2.0,>=1.5.6 in /usr/local/lib/python3.8/dist-packages (from urllib3[socks]~=1.26->selenium) (1.7.1)\n",
            "Requirement already satisfied: h11<1,>=0.9.0 in /usr/local/lib/python3.8/dist-packages (from wsproto>=0.14->trio-websocket~=0.9->selenium) (0.14.0)\n",
            "Reading package lists... Done\n",
            "Building dependency tree       \n",
            "Reading state information... Done\n",
            "firefox-geckodriver is already the newest version (108.0+build2-0ubuntu0.18.04.1).\n",
            "The following package was automatically installed and is no longer required:\n",
            "  libnvidia-common-460\n",
            "Use 'apt autoremove' to remove it.\n",
            "0 upgraded, 0 newly installed, 0 to remove and 20 not upgraded.\n",
            "cp: missing destination file operand after '/usr/lib/geckodriver/usr/bin'\n",
            "Try 'cp --help' for more information.\n",
            "cp: missing destination file operand after '/usr/lib/firefox/usr/bin'\n",
            "Try 'cp --help' for more information.\n"
          ]
        }
      ]
    },
    {
      "cell_type": "code",
      "source": [
        "#downloading songs from youtube\n",
        "from bs4 import BeautifulSoup\n",
        "from requests_html import HTMLSession\n",
        "from pathlib import Path\n",
        "import youtube_dl\n",
        "import requests\n",
        "import pandas\n",
        "import os\n",
        "from selenium import webdriver\n",
        "from selenium.webdriver.common.by import By \n",
        "from selenium.webdriver.support.ui import WebDriverWait \n",
        "from selenium.webdriver.support import expected_conditions as EC\n",
        "\n",
        "\n",
        "def DownloadVideosFromTitles(los):\n",
        "\tids = []\n",
        "\tfor index, item in enumerate(los):\n",
        "\t\tvid_id = ScrapeVidId(item)\n",
        "\t\tids += [vid_id]\n",
        "\tprint(\"Downloading songs\")\n",
        "\tDownloadVideosFromIds(ids)\n",
        "\n",
        "\n",
        "def DownloadVideosFromIds(lov):\n",
        "\tSAVE_PATH = str(os.path.join(Path.home(), \"Downloads/songs\"))\n",
        "\ttry:\n",
        "\t\tos.mkdir(SAVE_PATH)\n",
        "\texcept:\n",
        "\t\tprint(\"download folder exists\")\n",
        "\tydl_opts = {\n",
        "    \t'format': 'bestaudio/best',\n",
        "   \t\t'postprocessors': [{\n",
        "        \t\t'key': 'FFmpegExtractAudio',\n",
        "        \t\t'preferredcodec': 'mp3',\n",
        "        \t\t'preferredquality': '192',\n",
        "    \t\t}],\n",
        "\t\t'outtmpl': SAVE_PATH + '/%(title)s.%(ext)s',\n",
        "\t}\n",
        "\twith youtube_dl.YoutubeDL(ydl_opts) as ydl:\n",
        "\t    ydl.download(lov)\n",
        "\n",
        "def ScrapeVidId(query):\n",
        "    print (\"Getting video id for: \", query)\n",
        "    print(\"Lenght of the seached song used to help debugging\",len(query))\n",
        "    BASIC=\"http://www.youtube.com/results?search_query=\" \n",
        "    query = query.replace(\" \", \"+\")\n",
        "    URL = (BASIC + query)\n",
        "    print(\"The URL is: \", URL)\n",
        "    URL = URL.replace(' ', '+')\n",
        "    print(\"The URL after replacing the spaces with + is: \", URL)\n",
        "\n",
        "def __main__():\n",
        "    data = pandas.read_csv('/songs.csv')\n",
        "    songlist = data['song names'].tolist()\n",
        "    print(songlist)\n",
        "    print(\"Found \", len(songlist), \" songs!\")\n",
        "    DownloadVideosFromTitles(songlist[0:1])\n",
        "__main__()"
      ],
      "metadata": {
        "colab": {
          "base_uri": "https://localhost:8080/",
          "height": 1000
        },
        "id": "mrUR5xpD4u14",
        "outputId": "76bf252b-f39d-4989-da6e-662f1090293d"
      },
      "execution_count": null,
      "outputs": [
        {
          "output_type": "stream",
          "name": "stdout",
          "text": [
            "['Fall Apart - Tearz', 'I Chose Violence - iamjakehill', 'Enemy (with JID) - from the series Arcane League of Legends - Imagine Dragons', 'The Sound - Aero Chord', 'Hold On & Believe (feat. The Federal Empire) - Martin Garrix', 'Sun Is Never Going Down (feat. Dawn Golden) - Martin Garrix', 'Lamp (feat. Nujabes) - haruka nakamura', 'Spaceships - AREA21', 'Spotless - Martin Garrix', 'How Many - W&W', 'Rave After Rave - W&W', \"Don't Let Me Down - Illenium Remix - The Chainsmokers\", 'Hymn of Reflection - KSHMR', 'Touch (EP Version) - KSHMR', 'Dadima - KSHMR', 'Wildcard (EP Version) - KSHMR', 'Sleepwalk - KSHMR', 'Jungle Whistle - KSHMR', 'Lost Words - Radio Edit - Julian Jordan', 'Stardust - Jay Hardway', 'Electric Elephants - Jay Hardway', 'Louder - MOTi', 'El Mariachi - Bassjackers', 'Into The Fire - VINAI', 'Sing Me to Sleep - Marshmello Remix - Alan Walker', \"Don't Let Me Down - W&W Remix - The Chainsmokers\", 'Pirates - Crystal Lake', 'Forbidden Voices - Martin Garrix', '4U - Aero Chord', 'Outside (feat. Ellie Goulding) - Calvin Harris', 'Tiger - Original Mix - R3HAB', 'Invincible - Radio Edit - Firebeatz', 'Mammoth - Original Mix - Dimitri Vegas & Like Mike', 'The Hum - Short Edit - Dimitri Vegas & Like Mike', 'Secrets - Radio Edit - Tiësto', 'Treasured Soul - Radio Edit - Michael Calfan', 'Legend Comes to Life - Blasterjaxx', 'Welcome To The Jungle - Original Mix - Alvaro', 'This Is Dirty - Original Mix - DVBBS', 'The Buzz - Original Mix Edit - New World Sound', 'Dance to the Sun - Original Extended Mix - diMaro', '#Pantsdown - Club Mix - The Partysquad', 'Surface - Aero Chord', 'Boundless - Aero Chord', 'You Know You Like It - DJ Snake', 'Project T - Martin Garrix Remix - Dimitri Vegas & Like Mike', 'Louder - Extended Mix - Dimitri Vegas & Like Mike', 'Sally - Hardwell', 'Napoleon [Mix Cut] - Original Mix - Holl & Rush', 'Eclipse - Hardwell', 'Calabria - Firebeatz Remix - Rune RK', \"Don't Stop The Madness - Hardwell\", 'No Heroes (feat. Luciana) - Original Mix - Firebeatz', 'Switch Lanes - Tyga', 'Bigfoot - Original Mix - W&W', 'Thunder - Original Mix - W&W', 'Rack City - Tyga', \"Can't You See - Original Mix - Shermanology\", 'Flashlight - Original Mix - R3HAB', 'Puzzle - Quintino', 'Lose Yourself - Soundtrack Version - Eminem', 'Boom Boom - Justice Crew', 'Smile - Original Mix - Joker Inc', 'Vicious - Original Mix - Ibranovski', 'Remember the Name (feat. Styles of Beyond) - Fort Minor', 'Turn Up The Love - Far East Movement', 'Changed The Way You Kiss Me - Radio Edit - Example', 'Berzerk - Eminem', 'Immortal (We Live Forever) - Original Mix - DVBBS', 'Shot Me Down (feat. Skylar Grey) - Radio Edit - David Guetta', 'Unicorn Zombie Apocalypse - Original Mix - Borgore', 'Kingdom - Original Mix - Jewelz & Sparks', 'Wizard - Martin Garrix', 'Tremor (Sensation 2014 Anthem) - Radio Edit - Dimitri Vegas & Like Mike', 'Flute - Radio Mix - New World Sound', 'Stampede - Original Mix - Dimitri Vegas & Like Mike', 'Wildfire - Radio Edit - Borgeous', 'Helicopter - Video Edit - Martin Garrix', 'Shotgun - Yellow Claw', 'We Were Young - Original Mix - DVBBS', 'Savior - Radio Edit - Bassjackers', 'Virus (How About Now) - Martin Garrix', 'Karate - Original Mix - R3HAB', 'Incredible - Original Mix - Carnage', 'Gravity - Original Mix - Blasterjaxx', 'Electro Champion - Ali Nadem', 'The Underground - Original Mix - Alvaro', 'Razor Sharp - Pegboard Nerds', 'Flight - Tristam', 'Strike - Radio Edit - Merk & Kremont', 'Tsunami - DVBBS', 'Animals - Original Mix - Martin Garrix', 'Spaceman - Hardwell']\n",
            "Found  93  songs!\n",
            "Getting video id for:  Fall Apart - Tearz\n",
            "Lenght of the seached song used to help debugging 18\n",
            "The URL is:  http://www.youtube.com/results?search_query=Fall+Apart+-+Tearz\n",
            "The URL after replacing the spaces with + is:  http://www.youtube.com/results?search_query=Fall+Apart+-+Tearz\n"
          ]
        },
        {
          "output_type": "stream",
          "name": "stderr",
          "text": [
            "<ipython-input-186-cf61e1bcdd61>:56: DeprecationWarning: executable_path has been deprecated, please pass in a Service object\n",
            "  browser = webdriver.Firefox(options=options, executable_path='/usr/bin/geckodriver')\n"
          ]
        },
        {
          "output_type": "error",
          "ename": "WebDriverException",
          "evalue": "ignored",
          "traceback": [
            "\u001b[0;31m---------------------------------------------------------------------------\u001b[0m",
            "\u001b[0;31mWebDriverException\u001b[0m                        Traceback (most recent call last)",
            "\u001b[0;32m<ipython-input-186-cf61e1bcdd61>\u001b[0m in \u001b[0;36m<module>\u001b[0;34m\u001b[0m\n\u001b[1;32m     77\u001b[0m     \u001b[0mprint\u001b[0m\u001b[0;34m(\u001b[0m\u001b[0;34m\"Found \"\u001b[0m\u001b[0;34m,\u001b[0m \u001b[0mlen\u001b[0m\u001b[0;34m(\u001b[0m\u001b[0msonglist\u001b[0m\u001b[0;34m)\u001b[0m\u001b[0;34m,\u001b[0m \u001b[0;34m\" songs!\"\u001b[0m\u001b[0;34m)\u001b[0m\u001b[0;34m\u001b[0m\u001b[0;34m\u001b[0m\u001b[0m\n\u001b[1;32m     78\u001b[0m     \u001b[0mDownloadVideosFromTitles\u001b[0m\u001b[0;34m(\u001b[0m\u001b[0msonglist\u001b[0m\u001b[0;34m[\u001b[0m\u001b[0;36m0\u001b[0m\u001b[0;34m:\u001b[0m\u001b[0;36m1\u001b[0m\u001b[0;34m]\u001b[0m\u001b[0;34m)\u001b[0m\u001b[0;34m\u001b[0m\u001b[0;34m\u001b[0m\u001b[0m\n\u001b[0;32m---> 79\u001b[0;31m \u001b[0m__main__\u001b[0m\u001b[0;34m(\u001b[0m\u001b[0;34m)\u001b[0m\u001b[0;34m\u001b[0m\u001b[0;34m\u001b[0m\u001b[0m\n\u001b[0m",
            "\u001b[0;32m<ipython-input-186-cf61e1bcdd61>\u001b[0m in \u001b[0;36m__main__\u001b[0;34m()\u001b[0m\n\u001b[1;32m     76\u001b[0m     \u001b[0mprint\u001b[0m\u001b[0;34m(\u001b[0m\u001b[0msonglist\u001b[0m\u001b[0;34m)\u001b[0m\u001b[0;34m\u001b[0m\u001b[0;34m\u001b[0m\u001b[0m\n\u001b[1;32m     77\u001b[0m     \u001b[0mprint\u001b[0m\u001b[0;34m(\u001b[0m\u001b[0;34m\"Found \"\u001b[0m\u001b[0;34m,\u001b[0m \u001b[0mlen\u001b[0m\u001b[0;34m(\u001b[0m\u001b[0msonglist\u001b[0m\u001b[0;34m)\u001b[0m\u001b[0;34m,\u001b[0m \u001b[0;34m\" songs!\"\u001b[0m\u001b[0;34m)\u001b[0m\u001b[0;34m\u001b[0m\u001b[0;34m\u001b[0m\u001b[0m\n\u001b[0;32m---> 78\u001b[0;31m     \u001b[0mDownloadVideosFromTitles\u001b[0m\u001b[0;34m(\u001b[0m\u001b[0msonglist\u001b[0m\u001b[0;34m[\u001b[0m\u001b[0;36m0\u001b[0m\u001b[0;34m:\u001b[0m\u001b[0;36m1\u001b[0m\u001b[0;34m]\u001b[0m\u001b[0;34m)\u001b[0m\u001b[0;34m\u001b[0m\u001b[0;34m\u001b[0m\u001b[0m\n\u001b[0m\u001b[1;32m     79\u001b[0m \u001b[0m__main__\u001b[0m\u001b[0;34m(\u001b[0m\u001b[0;34m)\u001b[0m\u001b[0;34m\u001b[0m\u001b[0;34m\u001b[0m\u001b[0m\n",
            "\u001b[0;32m<ipython-input-186-cf61e1bcdd61>\u001b[0m in \u001b[0;36mDownloadVideosFromTitles\u001b[0;34m(los)\u001b[0m\n\u001b[1;32m     16\u001b[0m         \u001b[0mids\u001b[0m \u001b[0;34m=\u001b[0m \u001b[0;34m[\u001b[0m\u001b[0;34m]\u001b[0m\u001b[0;34m\u001b[0m\u001b[0;34m\u001b[0m\u001b[0m\n\u001b[1;32m     17\u001b[0m         \u001b[0;32mfor\u001b[0m \u001b[0mindex\u001b[0m\u001b[0;34m,\u001b[0m \u001b[0mitem\u001b[0m \u001b[0;32min\u001b[0m \u001b[0menumerate\u001b[0m\u001b[0;34m(\u001b[0m\u001b[0mlos\u001b[0m\u001b[0;34m)\u001b[0m\u001b[0;34m:\u001b[0m\u001b[0;34m\u001b[0m\u001b[0;34m\u001b[0m\u001b[0m\n\u001b[0;32m---> 18\u001b[0;31m                 \u001b[0mvid_id\u001b[0m \u001b[0;34m=\u001b[0m \u001b[0mScrapeVidId\u001b[0m\u001b[0;34m(\u001b[0m\u001b[0mitem\u001b[0m\u001b[0;34m)\u001b[0m\u001b[0;34m\u001b[0m\u001b[0;34m\u001b[0m\u001b[0m\n\u001b[0m\u001b[1;32m     19\u001b[0m                 \u001b[0mids\u001b[0m \u001b[0;34m+=\u001b[0m \u001b[0;34m[\u001b[0m\u001b[0mvid_id\u001b[0m\u001b[0;34m]\u001b[0m\u001b[0;34m\u001b[0m\u001b[0;34m\u001b[0m\u001b[0m\n\u001b[1;32m     20\u001b[0m         \u001b[0mprint\u001b[0m\u001b[0;34m(\u001b[0m\u001b[0;34m\"Downloading songs\"\u001b[0m\u001b[0;34m)\u001b[0m\u001b[0;34m\u001b[0m\u001b[0;34m\u001b[0m\u001b[0m\n",
            "\u001b[0;32m<ipython-input-186-cf61e1bcdd61>\u001b[0m in \u001b[0;36mScrapeVidId\u001b[0;34m(query)\u001b[0m\n\u001b[1;32m     54\u001b[0m     \u001b[0moptions\u001b[0m\u001b[0;34m.\u001b[0m\u001b[0madd_argument\u001b[0m\u001b[0;34m(\u001b[0m\u001b[0;34m'start-maximized'\u001b[0m\u001b[0;34m)\u001b[0m\u001b[0;34m\u001b[0m\u001b[0;34m\u001b[0m\u001b[0m\n\u001b[1;32m     55\u001b[0m     \u001b[0moptions\u001b[0m\u001b[0;34m.\u001b[0m\u001b[0madd_argument\u001b[0m\u001b[0;34m(\u001b[0m\u001b[0;34m'--headless'\u001b[0m\u001b[0;34m)\u001b[0m\u001b[0;34m\u001b[0m\u001b[0;34m\u001b[0m\u001b[0m\n\u001b[0;32m---> 56\u001b[0;31m     \u001b[0mbrowser\u001b[0m \u001b[0;34m=\u001b[0m \u001b[0mwebdriver\u001b[0m\u001b[0;34m.\u001b[0m\u001b[0mFirefox\u001b[0m\u001b[0;34m(\u001b[0m\u001b[0moptions\u001b[0m\u001b[0;34m=\u001b[0m\u001b[0moptions\u001b[0m\u001b[0;34m,\u001b[0m \u001b[0mexecutable_path\u001b[0m\u001b[0;34m=\u001b[0m\u001b[0;34m'/usr/bin/geckodriver'\u001b[0m\u001b[0;34m)\u001b[0m\u001b[0;34m\u001b[0m\u001b[0;34m\u001b[0m\u001b[0m\n\u001b[0m\u001b[1;32m     57\u001b[0m     \u001b[0mbrowser\u001b[0m\u001b[0;34m.\u001b[0m\u001b[0mget\u001b[0m\u001b[0;34m(\u001b[0m\u001b[0mURL\u001b[0m\u001b[0;34m)\u001b[0m\u001b[0;34m\u001b[0m\u001b[0;34m\u001b[0m\u001b[0m\n\u001b[1;32m     58\u001b[0m     \u001b[0mresults\u001b[0m \u001b[0;34m=\u001b[0m \u001b[0;34m[\u001b[0m\u001b[0mmy_href\u001b[0m\u001b[0;34m.\u001b[0m\u001b[0mget_attribute\u001b[0m\u001b[0;34m(\u001b[0m\u001b[0;34m\"href\"\u001b[0m\u001b[0;34m)\u001b[0m \u001b[0;32mfor\u001b[0m \u001b[0mmy_href\u001b[0m \u001b[0;32min\u001b[0m \u001b[0mWebDriverWait\u001b[0m\u001b[0;34m(\u001b[0m\u001b[0mbrowser\u001b[0m\u001b[0;34m,\u001b[0m \u001b[0;36m5\u001b[0m\u001b[0;34m)\u001b[0m\u001b[0;34m.\u001b[0m\u001b[0muntil\u001b[0m\u001b[0;34m(\u001b[0m\u001b[0mEC\u001b[0m\u001b[0;34m.\u001b[0m\u001b[0mvisibility_of_all_elements_located\u001b[0m\u001b[0;34m(\u001b[0m\u001b[0;34m(\u001b[0m\u001b[0mBy\u001b[0m\u001b[0;34m.\u001b[0m\u001b[0mCSS_SELECTOR\u001b[0m\u001b[0;34m,\u001b[0m \u001b[0;34m\"a.yt-simple-endpoint.style-scope.ytd-video-renderer#video-title\"\u001b[0m\u001b[0;34m)\u001b[0m\u001b[0;34m)\u001b[0m\u001b[0;34m)\u001b[0m\u001b[0;34m]\u001b[0m\u001b[0;34m[\u001b[0m\u001b[0;36m0\u001b[0m\u001b[0;34m]\u001b[0m\u001b[0;34m\u001b[0m\u001b[0;34m\u001b[0m\u001b[0m\n",
            "\u001b[0;32m/usr/local/lib/python3.8/dist-packages/selenium/webdriver/firefox/webdriver.py\u001b[0m in \u001b[0;36m__init__\u001b[0;34m(self, firefox_profile, firefox_binary, capabilities, proxy, executable_path, options, service_log_path, service_args, service, desired_capabilities, log_path, keep_alive)\u001b[0m\n\u001b[1;32m    195\u001b[0m             \u001b[0mremote_server_addr\u001b[0m\u001b[0;34m=\u001b[0m\u001b[0mself\u001b[0m\u001b[0;34m.\u001b[0m\u001b[0mservice\u001b[0m\u001b[0;34m.\u001b[0m\u001b[0mservice_url\u001b[0m\u001b[0;34m,\u001b[0m \u001b[0mignore_proxy\u001b[0m\u001b[0;34m=\u001b[0m\u001b[0moptions\u001b[0m\u001b[0;34m.\u001b[0m\u001b[0m_ignore_local_proxy\u001b[0m\u001b[0;34m\u001b[0m\u001b[0;34m\u001b[0m\u001b[0m\n\u001b[1;32m    196\u001b[0m         )\n\u001b[0;32m--> 197\u001b[0;31m         \u001b[0msuper\u001b[0m\u001b[0;34m(\u001b[0m\u001b[0;34m)\u001b[0m\u001b[0;34m.\u001b[0m\u001b[0m__init__\u001b[0m\u001b[0;34m(\u001b[0m\u001b[0mcommand_executor\u001b[0m\u001b[0;34m=\u001b[0m\u001b[0mexecutor\u001b[0m\u001b[0;34m,\u001b[0m \u001b[0moptions\u001b[0m\u001b[0;34m=\u001b[0m\u001b[0moptions\u001b[0m\u001b[0;34m,\u001b[0m \u001b[0mkeep_alive\u001b[0m\u001b[0;34m=\u001b[0m\u001b[0;32mTrue\u001b[0m\u001b[0;34m)\u001b[0m\u001b[0;34m\u001b[0m\u001b[0;34m\u001b[0m\u001b[0m\n\u001b[0m\u001b[1;32m    198\u001b[0m \u001b[0;34m\u001b[0m\u001b[0m\n\u001b[1;32m    199\u001b[0m         \u001b[0mself\u001b[0m\u001b[0;34m.\u001b[0m\u001b[0m_is_remote\u001b[0m \u001b[0;34m=\u001b[0m \u001b[0;32mFalse\u001b[0m\u001b[0;34m\u001b[0m\u001b[0;34m\u001b[0m\u001b[0m\n",
            "\u001b[0;32m/usr/local/lib/python3.8/dist-packages/selenium/webdriver/remote/webdriver.py\u001b[0m in \u001b[0;36m__init__\u001b[0;34m(self, command_executor, desired_capabilities, browser_profile, proxy, keep_alive, file_detector, options)\u001b[0m\n\u001b[1;32m    286\u001b[0m         \u001b[0mself\u001b[0m\u001b[0;34m.\u001b[0m\u001b[0m_authenticator_id\u001b[0m \u001b[0;34m=\u001b[0m \u001b[0;32mNone\u001b[0m\u001b[0;34m\u001b[0m\u001b[0;34m\u001b[0m\u001b[0m\n\u001b[1;32m    287\u001b[0m         \u001b[0mself\u001b[0m\u001b[0;34m.\u001b[0m\u001b[0mstart_client\u001b[0m\u001b[0;34m(\u001b[0m\u001b[0;34m)\u001b[0m\u001b[0;34m\u001b[0m\u001b[0;34m\u001b[0m\u001b[0m\n\u001b[0;32m--> 288\u001b[0;31m         \u001b[0mself\u001b[0m\u001b[0;34m.\u001b[0m\u001b[0mstart_session\u001b[0m\u001b[0;34m(\u001b[0m\u001b[0mcapabilities\u001b[0m\u001b[0;34m,\u001b[0m \u001b[0mbrowser_profile\u001b[0m\u001b[0;34m)\u001b[0m\u001b[0;34m\u001b[0m\u001b[0;34m\u001b[0m\u001b[0m\n\u001b[0m\u001b[1;32m    289\u001b[0m \u001b[0;34m\u001b[0m\u001b[0m\n\u001b[1;32m    290\u001b[0m     \u001b[0;32mdef\u001b[0m \u001b[0m__repr__\u001b[0m\u001b[0;34m(\u001b[0m\u001b[0mself\u001b[0m\u001b[0;34m)\u001b[0m\u001b[0;34m:\u001b[0m\u001b[0;34m\u001b[0m\u001b[0;34m\u001b[0m\u001b[0m\n",
            "\u001b[0;32m/usr/local/lib/python3.8/dist-packages/selenium/webdriver/remote/webdriver.py\u001b[0m in \u001b[0;36mstart_session\u001b[0;34m(self, capabilities, browser_profile)\u001b[0m\n\u001b[1;32m    379\u001b[0m         \u001b[0mw3c_caps\u001b[0m \u001b[0;34m=\u001b[0m \u001b[0m_make_w3c_caps\u001b[0m\u001b[0;34m(\u001b[0m\u001b[0mcapabilities\u001b[0m\u001b[0;34m)\u001b[0m\u001b[0;34m\u001b[0m\u001b[0;34m\u001b[0m\u001b[0m\n\u001b[1;32m    380\u001b[0m         \u001b[0mparameters\u001b[0m \u001b[0;34m=\u001b[0m \u001b[0;34m{\u001b[0m\u001b[0;34m\"capabilities\"\u001b[0m\u001b[0;34m:\u001b[0m \u001b[0mw3c_caps\u001b[0m\u001b[0;34m}\u001b[0m\u001b[0;34m\u001b[0m\u001b[0;34m\u001b[0m\u001b[0m\n\u001b[0;32m--> 381\u001b[0;31m         \u001b[0mresponse\u001b[0m \u001b[0;34m=\u001b[0m \u001b[0mself\u001b[0m\u001b[0;34m.\u001b[0m\u001b[0mexecute\u001b[0m\u001b[0;34m(\u001b[0m\u001b[0mCommand\u001b[0m\u001b[0;34m.\u001b[0m\u001b[0mNEW_SESSION\u001b[0m\u001b[0;34m,\u001b[0m \u001b[0mparameters\u001b[0m\u001b[0;34m)\u001b[0m\u001b[0;34m\u001b[0m\u001b[0;34m\u001b[0m\u001b[0m\n\u001b[0m\u001b[1;32m    382\u001b[0m         \u001b[0;32mif\u001b[0m \u001b[0;34m\"sessionId\"\u001b[0m \u001b[0;32mnot\u001b[0m \u001b[0;32min\u001b[0m \u001b[0mresponse\u001b[0m\u001b[0;34m:\u001b[0m\u001b[0;34m\u001b[0m\u001b[0;34m\u001b[0m\u001b[0m\n\u001b[1;32m    383\u001b[0m             \u001b[0mresponse\u001b[0m \u001b[0;34m=\u001b[0m \u001b[0mresponse\u001b[0m\u001b[0;34m[\u001b[0m\u001b[0;34m\"value\"\u001b[0m\u001b[0;34m]\u001b[0m\u001b[0;34m\u001b[0m\u001b[0;34m\u001b[0m\u001b[0m\n",
            "\u001b[0;32m/usr/local/lib/python3.8/dist-packages/selenium/webdriver/remote/webdriver.py\u001b[0m in \u001b[0;36mexecute\u001b[0;34m(self, driver_command, params)\u001b[0m\n\u001b[1;32m    442\u001b[0m         \u001b[0mresponse\u001b[0m \u001b[0;34m=\u001b[0m \u001b[0mself\u001b[0m\u001b[0;34m.\u001b[0m\u001b[0mcommand_executor\u001b[0m\u001b[0;34m.\u001b[0m\u001b[0mexecute\u001b[0m\u001b[0;34m(\u001b[0m\u001b[0mdriver_command\u001b[0m\u001b[0;34m,\u001b[0m \u001b[0mparams\u001b[0m\u001b[0;34m)\u001b[0m\u001b[0;34m\u001b[0m\u001b[0;34m\u001b[0m\u001b[0m\n\u001b[1;32m    443\u001b[0m         \u001b[0;32mif\u001b[0m \u001b[0mresponse\u001b[0m\u001b[0;34m:\u001b[0m\u001b[0;34m\u001b[0m\u001b[0;34m\u001b[0m\u001b[0m\n\u001b[0;32m--> 444\u001b[0;31m             \u001b[0mself\u001b[0m\u001b[0;34m.\u001b[0m\u001b[0merror_handler\u001b[0m\u001b[0;34m.\u001b[0m\u001b[0mcheck_response\u001b[0m\u001b[0;34m(\u001b[0m\u001b[0mresponse\u001b[0m\u001b[0;34m)\u001b[0m\u001b[0;34m\u001b[0m\u001b[0;34m\u001b[0m\u001b[0m\n\u001b[0m\u001b[1;32m    445\u001b[0m             \u001b[0mresponse\u001b[0m\u001b[0;34m[\u001b[0m\u001b[0;34m\"value\"\u001b[0m\u001b[0;34m]\u001b[0m \u001b[0;34m=\u001b[0m \u001b[0mself\u001b[0m\u001b[0;34m.\u001b[0m\u001b[0m_unwrap_value\u001b[0m\u001b[0;34m(\u001b[0m\u001b[0mresponse\u001b[0m\u001b[0;34m.\u001b[0m\u001b[0mget\u001b[0m\u001b[0;34m(\u001b[0m\u001b[0;34m\"value\"\u001b[0m\u001b[0;34m,\u001b[0m \u001b[0;32mNone\u001b[0m\u001b[0;34m)\u001b[0m\u001b[0;34m)\u001b[0m\u001b[0;34m\u001b[0m\u001b[0;34m\u001b[0m\u001b[0m\n\u001b[1;32m    446\u001b[0m             \u001b[0;32mreturn\u001b[0m \u001b[0mresponse\u001b[0m\u001b[0;34m\u001b[0m\u001b[0;34m\u001b[0m\u001b[0m\n",
            "\u001b[0;32m/usr/local/lib/python3.8/dist-packages/selenium/webdriver/remote/errorhandler.py\u001b[0m in \u001b[0;36mcheck_response\u001b[0;34m(self, response)\u001b[0m\n\u001b[1;32m    247\u001b[0m                 \u001b[0malert_text\u001b[0m \u001b[0;34m=\u001b[0m \u001b[0mvalue\u001b[0m\u001b[0;34m[\u001b[0m\u001b[0;34m\"alert\"\u001b[0m\u001b[0;34m]\u001b[0m\u001b[0;34m.\u001b[0m\u001b[0mget\u001b[0m\u001b[0;34m(\u001b[0m\u001b[0;34m\"text\"\u001b[0m\u001b[0;34m)\u001b[0m\u001b[0;34m\u001b[0m\u001b[0;34m\u001b[0m\u001b[0m\n\u001b[1;32m    248\u001b[0m             \u001b[0;32mraise\u001b[0m \u001b[0mexception_class\u001b[0m\u001b[0;34m(\u001b[0m\u001b[0mmessage\u001b[0m\u001b[0;34m,\u001b[0m \u001b[0mscreen\u001b[0m\u001b[0;34m,\u001b[0m \u001b[0mstacktrace\u001b[0m\u001b[0;34m,\u001b[0m \u001b[0malert_text\u001b[0m\u001b[0;34m)\u001b[0m  \u001b[0;31m# type: ignore[call-arg]  # mypy is not smart enough here\u001b[0m\u001b[0;34m\u001b[0m\u001b[0;34m\u001b[0m\u001b[0m\n\u001b[0;32m--> 249\u001b[0;31m         \u001b[0;32mraise\u001b[0m \u001b[0mexception_class\u001b[0m\u001b[0;34m(\u001b[0m\u001b[0mmessage\u001b[0m\u001b[0;34m,\u001b[0m \u001b[0mscreen\u001b[0m\u001b[0;34m,\u001b[0m \u001b[0mstacktrace\u001b[0m\u001b[0;34m)\u001b[0m\u001b[0;34m\u001b[0m\u001b[0;34m\u001b[0m\u001b[0m\n\u001b[0m",
            "\u001b[0;31mWebDriverException\u001b[0m: Message: Process unexpectedly closed with status signal\n"
          ]
        }
      ]
    },
    {
      "cell_type": "code",
      "source": [],
      "metadata": {
        "id": "W8iIl5f2nYNv"
      },
      "execution_count": null,
      "outputs": []
    }
  ]
}